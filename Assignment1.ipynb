{
 "cells": [
  {
   "cell_type": "markdown",
   "id": "eb47439e-600d-4660-9ccd-807c033c5ec6",
   "metadata": {},
   "source": [
    "Question 1"
   ]
  },
  {
   "cell_type": "raw",
   "id": "71d958be-e80f-45ee-925d-90f8e3a80842",
   "metadata": {},
   "source": [
    "values are 'hello', -87.8, 6\n",
    "expression are *, -, /, +"
   ]
  },
  {
   "cell_type": "markdown",
   "id": "0e25ba82-ec46-4550-8e23-38caf5b0f301",
   "metadata": {},
   "source": [
    "Quesion 2"
   ]
  },
  {
   "cell_type": "markdown",
   "id": "94d719d9-d69f-423f-8385-fe7fefc75543",
   "metadata": {},
   "source": [
    "Variable contains values of different dataype such as string. Variables are contianer that store value datatype whereas string is a datatype made up of sequence of characters."
   ]
  },
  {
   "cell_type": "markdown",
   "id": "cca4c1e5-2c91-4c75-8f66-abd41f9c51c2",
   "metadata": {},
   "source": [
    "Question 3\n"
   ]
  },
  {
   "cell_type": "markdown",
   "id": "ccb17134-7a91-4cd8-9263-7102e0098594",
   "metadata": {},
   "source": [
    "Datatypes includes strings, sets and lists. Strings are sequence of characters which are immutable. Sets are unordered and mutable collection of data which dess not allow duplicates. Lists are ordered and mutable collection of data which allows duplicates.\n"
   ]
  },
  {
   "cell_type": "markdown",
   "id": "f5c3f2d9-78da-417d-b813-63279bd3a10f",
   "metadata": {},
   "source": [
    "Question 4"
   ]
  },
  {
   "cell_type": "markdown",
   "id": "6d6354d1-5660-4d1b-9cd5-2c7afcdaf61f",
   "metadata": {},
   "source": [
    "An expression in Python is a combination of operators and operands. Use case of expression incldues addition, multiplication, division and substraction. "
   ]
  },
  {
   "cell_type": "markdown",
   "id": "f9466060-4244-40f3-86db-12e6abbf14d5",
   "metadata": {},
   "source": [
    "Quesiotn 5"
   ]
  },
  {
   "cell_type": "markdown",
   "id": "0f27dd11-6c1d-4fe9-8f77-6a4e364898e6",
   "metadata": {},
   "source": [
    "The assignment statement stores a value to a variable. The expression includes operator to perform calculation such as spam = 10*5."
   ]
  },
  {
   "cell_type": "markdown",
   "id": "10ec3f10-2e54-43d1-bf89-b0f98fa41cd7",
   "metadata": {},
   "source": [
    "Question 6"
   ]
  },
  {
   "cell_type": "markdown",
   "id": "3e5bc3de-29f1-4f99-a207-7574431fde1c",
   "metadata": {},
   "source": [
    "The bacon variable remains 22 since bacon value is not changed as the output of \"bacon + 1\" is not assign to the bacon variable."
   ]
  },
  {
   "cell_type": "markdown",
   "id": "97a7604c-c163-414b-99b5-298b6b0e888f",
   "metadata": {},
   "source": [
    "Quesiton 7"
   ]
  },
  {
   "cell_type": "markdown",
   "id": "eadae7b0-8768-4597-b5be-317eb4a9978b",
   "metadata": {},
   "source": [
    "'spamspamspam'\n",
    "'spamspamspam'"
   ]
  },
  {
   "cell_type": "markdown",
   "id": "fe3fc02f-b7fc-4005-ab05-42e5600c7313",
   "metadata": {},
   "source": [
    "Question 8"
   ]
  },
  {
   "cell_type": "markdown",
   "id": "389847ca-2254-46cc-aef2-004b938adf39",
   "metadata": {},
   "source": [
    "A variable cannot begins with a number so the variable '100' is invalid"
   ]
  }
 ],
 "metadata": {
  "kernelspec": {
   "display_name": "Python 3 (ipykernel)",
   "language": "python",
   "name": "python3"
  },
  "language_info": {
   "codemirror_mode": {
    "name": "ipython",
    "version": 3
   },
   "file_extension": ".py",
   "mimetype": "text/x-python",
   "name": "python",
   "nbconvert_exporter": "python",
   "pygments_lexer": "ipython3",
   "version": "3.10.6"
  }
 },
 "nbformat": 4,
 "nbformat_minor": 5
}
